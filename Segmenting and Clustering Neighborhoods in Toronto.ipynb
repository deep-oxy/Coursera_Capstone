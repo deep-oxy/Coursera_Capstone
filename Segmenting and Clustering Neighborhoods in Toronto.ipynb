{
    "cells": [
        {
            "cell_type": "markdown",
            "metadata": {},
            "source": "# Question 1    \n### Use the BeautifulSoup package or any other way you are comfortable with to transform the data in the table on the Wikipedia page into the above pandas dataframe"
        },
        {
            "cell_type": "code",
            "execution_count": 2,
            "metadata": {},
            "outputs": [],
            "source": "import pandas as pd\nimport numpy as np\nimport requests\nfrom bs4 import BeautifulSoup"
        },
        {
            "cell_type": "code",
            "execution_count": null,
            "metadata": {},
            "outputs": [],
            "source": "#requesting text from the link\ntxt=requests.get('https://en.wikipedia.org/wiki/List_of_postal_codes_of_Canada:_M').text\ntxt"
        },
        {
            "cell_type": "code",
            "execution_count": null,
            "metadata": {},
            "outputs": [],
            "source": "#creating the soup\nsoup=BeautifulSoup(txt, 'lxml')\nsoup"
        },
        {
            "cell_type": "code",
            "execution_count": null,
            "metadata": {},
            "outputs": [],
            "source": "#as we have to extract data from a table n by observation we can see that the tabular data is the first available table\ntable=soup.find('table')\ntable"
        },
        {
            "cell_type": "code",
            "execution_count": null,
            "metadata": {},
            "outputs": [],
            "source": "#now we are ging to create a pandas dataframe to extract the data from the table\ndf1=pd.DataFrame(columns=['PostalCode','Borough','Neighborhood'])\ndf1"
        },
        {
            "cell_type": "code",
            "execution_count": null,
            "metadata": {
                "scrolled": true
            },
            "outputs": [],
            "source": "#now we will run a loop through the table to get the data\nfor tr in table.find_all('tr'):\n    row=[]\n    for td in tr.find_all('th') or tr.find_all('td'):\n        row.append(td.text.strip())\n    df1.loc[len(df1)]=row\ndf1"
        },
        {
            "cell_type": "code",
            "execution_count": null,
            "metadata": {
                "scrolled": true
            },
            "outputs": [],
            "source": "#dropping the first row as its not required\ndf1.drop(0, inplace=True)\ndf1"
        },
        {
            "cell_type": "code",
            "execution_count": null,
            "metadata": {},
            "outputs": [],
            "source": "#dropping the rows where Borough is Not Assigned\ndf1.drop(df1[df1['Borough']=='Not assigned'].index, inplace=True)\ndf1"
        },
        {
            "cell_type": "code",
            "execution_count": null,
            "metadata": {},
            "outputs": [],
            "source": "#combining rows with same postal code with neighborhood seperated by comas\n#we can use either df.agg ie aggregate function or use df.apply with lambda condition\n#df1=df1.groupby(['PostalCode','Borough'], sort=False).agg( ', '.join)\ndf1=df1.groupby(['PostalCode','Borough'], sort=False)['Neighborhood'].apply(lambda x: \"%s\" % ','.join(x))\n#and then reset the indexing\ndf1=df1.reset_index()\ndf1"
        },
        {
            "cell_type": "code",
            "execution_count": null,
            "metadata": {},
            "outputs": [],
            "source": "#If a cell has a borough but a Not assigned neighborhood, then the neighborhood will be the same as the borough \n#By observation I found that theres no such case\ndf1.loc[df1['Neighborhood'] =='Not assigned', 'Neighborhood'] = df1['Borough']\ndf1"
        },
        {
            "cell_type": "code",
            "execution_count": null,
            "metadata": {},
            "outputs": [],
            "source": "#In the last cell of your notebook, use the .shape method to print the number of rows of your dataframe\ndf1.shape"
        },
        {
            "cell_type": "code",
            "execution_count": null,
            "metadata": {},
            "outputs": [],
            "source": ""
        }
    ],
    "metadata": {
        "kernelspec": {
            "display_name": "Python 3.6",
            "language": "python",
            "name": "python3"
        },
        "language_info": {
            "codemirror_mode": {
                "name": "ipython",
                "version": 3
            },
            "file_extension": ".py",
            "mimetype": "text/x-python",
            "name": "python",
            "nbconvert_exporter": "python",
            "pygments_lexer": "ipython3",
            "version": "3.6.9"
        }
    },
    "nbformat": 4,
    "nbformat_minor": 1
}